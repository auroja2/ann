{
 "cells": [
  {
   "cell_type": "code",
   "execution_count": 1,
   "id": "1e77ccd0-2edf-4df1-91fd-02633666d307",
   "metadata": {},
   "outputs": [],
   "source": [
    "import numpy as np"
   ]
  },
  {
   "cell_type": "code",
   "execution_count": 2,
   "id": "2beaaa3f-0660-4945-a2f0-fe4b42e81a8b",
   "metadata": {},
   "outputs": [],
   "source": [
    "def sigmoid(x):\n",
    "    return 1 / (1 + np.exp(-x))\n",
    "    "
   ]
  },
  {
   "cell_type": "code",
   "execution_count": 3,
   "id": "3ba7b187-169f-48ed-9f62-c0f84f3cbb9f",
   "metadata": {},
   "outputs": [],
   "source": [
    "def sigmoid_derivative(x):\n",
    "    return x * (1 - x)"
   ]
  },
  {
   "cell_type": "code",
   "execution_count": 4,
   "id": "fcaeb9aa-6816-4ebc-9b55-8770f2b4e37a",
   "metadata": {},
   "outputs": [],
   "source": [
    "X = np.array([[0, 0],\n",
    "              [0, 1],\n",
    "              [1, 0],\n",
    "              [1, 1]])"
   ]
  },
  {
   "cell_type": "code",
   "execution_count": 5,
   "id": "7c86e9a7-8e71-4b7e-a3b0-504594f018a7",
   "metadata": {},
   "outputs": [],
   "source": [
    "y = np.array([[0], [1], [1], [0]])"
   ]
  },
  {
   "cell_type": "code",
   "execution_count": 6,
   "id": "8c3972a5-1e9f-4e58-ab85-a466b8d30f7e",
   "metadata": {},
   "outputs": [],
   "source": [
    "np.random.seed(42)"
   ]
  },
  {
   "cell_type": "code",
   "execution_count": 7,
   "id": "a6e8487d-db46-498a-9fe0-277da81c16ea",
   "metadata": {},
   "outputs": [],
   "source": [
    "input_layer_size = 2\n",
    "hidden_layer_size = 2\n",
    "output_layer_size = 1"
   ]
  },
  {
   "cell_type": "code",
   "execution_count": 8,
   "id": "07de375c-7908-4a53-a511-cc1cf503a057",
   "metadata": {},
   "outputs": [],
   "source": [
    "W1 = np.random.uniform(size=(input_layer_size, hidden_layer_size))\n",
    "W2 = np.random.uniform(size=(hidden_layer_size, output_layer_size))\n"
   ]
  },
  {
   "cell_type": "code",
   "execution_count": 9,
   "id": "04517c75-9969-44df-8002-ae4d529f2cc1",
   "metadata": {},
   "outputs": [],
   "source": [
    "b1 = np.random.uniform(size=(1, hidden_layer_size))\n",
    "b2 = np.random.uniform(size=(1, output_layer_size))"
   ]
  },
  {
   "cell_type": "code",
   "execution_count": 10,
   "id": "d86a0705-eeef-4d97-918e-116c8e341ef7",
   "metadata": {},
   "outputs": [],
   "source": [
    "epochs = 10000\n",
    "learning_rate = 0.1"
   ]
  },
  {
   "cell_type": "code",
   "execution_count": 11,
   "id": "07b933d1-421a-43ff-b53a-2bea5606dd58",
   "metadata": {},
   "outputs": [
    {
     "name": "stdout",
     "output_type": "stream",
     "text": [
      "Epoch 0, Loss: 0.2880\n",
      "Epoch 1000, Loss: 0.2494\n",
      "Epoch 2000, Loss: 0.2457\n",
      "Epoch 3000, Loss: 0.2200\n",
      "Epoch 4000, Loss: 0.1622\n",
      "Epoch 5000, Loss: 0.0527\n",
      "Epoch 6000, Loss: 0.0169\n",
      "Epoch 7000, Loss: 0.0089\n",
      "Epoch 8000, Loss: 0.0058\n",
      "Epoch 9000, Loss: 0.0043\n"
     ]
    }
   ],
   "source": [
    "for epoch in range(epochs):\n",
    "    hidden_input = np.dot(X, W1) + b1\n",
    "    hidden_output = sigmoid(hidden_input)\n",
    "\n",
    "    final_input = np.dot(hidden_output, W2) + b2\n",
    "    final_output = sigmoid(final_input)\n",
    "\n",
    "\n",
    "    error = y - final_output\n",
    "    d_output = error * sigmoid_derivative(final_output)\n",
    "\n",
    "    error_hidden = d_output.dot(W2.T)\n",
    "    d_hidden = error_hidden * sigmoid_derivative(hidden_output)\n",
    "\n",
    "\n",
    "    W2 += hidden_output.T.dot(d_output) * learning_rate\n",
    "    b2 += np.sum(d_output, axis=0, keepdims=True) * learning_rate\n",
    "\n",
    "    W1 += X.T.dot(d_hidden) * learning_rate\n",
    "    b1 += np.sum(d_hidden, axis=0, keepdims=True) * learning_rate\n",
    "\n",
    "    if epoch % 1000 == 0:\n",
    "        loss = np.mean(np.square(error))\n",
    "        print(f\"Epoch {epoch}, Loss: {loss:.4f}\")"
   ]
  },
  {
   "cell_type": "code",
   "execution_count": 12,
   "id": "8e7435bb-1c46-4101-90f7-5c32783ce021",
   "metadata": {},
   "outputs": [
    {
     "name": "stdout",
     "output_type": "stream",
     "text": [
      "\n",
      "Final Output after training:\n",
      "Input: [0 0] → Predicted: 0 (Actual: 0)\n",
      "Input: [0 1] → Predicted: 1 (Actual: 1)\n",
      "Input: [1 0] → Predicted: 1 (Actual: 1)\n",
      "Input: [1 1] → Predicted: 0 (Actual: 0)\n"
     ]
    }
   ],
   "source": [
    "print(\"\\nFinal Output after training:\")\n",
    "for i in range(4):\n",
    "    print(f\"Input: {X[i]} → Predicted: {round(final_output[i][0])} (Actual: {y[i][0]})\")"
   ]
  },
  {
   "cell_type": "code",
   "execution_count": null,
   "id": "78a9c66a-0a96-42eb-927e-0138746922aa",
   "metadata": {},
   "outputs": [],
   "source": []
  }
 ],
 "metadata": {
  "kernelspec": {
   "display_name": "Python 3 (ipykernel)",
   "language": "python",
   "name": "python3"
  },
  "language_info": {
   "codemirror_mode": {
    "name": "ipython",
    "version": 3
   },
   "file_extension": ".py",
   "mimetype": "text/x-python",
   "name": "python",
   "nbconvert_exporter": "python",
   "pygments_lexer": "ipython3",
   "version": "3.12.3"
  }
 },
 "nbformat": 4,
 "nbformat_minor": 5
}
