{
 "cells": [
  {
   "cell_type": "code",
   "execution_count": 1,
   "id": "fdc2db7b-d3f5-4649-8438-9f0660df52a8",
   "metadata": {},
   "outputs": [
    {
     "name": "stdout",
     "output_type": "stream",
     "text": [
      "X1\t X2\t Formula\t\t\t\t Output\n",
      "0\t0\t(0 * 1) + (0 * 1) = 0\t\t\t0\n",
      "0\t1\t(0 * 1) + (1 * 1) = 1\t\t\t1\n",
      "1\t0\t(1 * 1) + (0 * 1) = 1\t\t\t1\n",
      "1\t1\t(1 * 1) + (1 * 1) = 2\t\t\t1\n"
     ]
    }
   ],
   "source": [
    "import numpy as np \n",
    "def mp_neuron(inputs, weights, threshold): \n",
    "    weighted_sum = np.dot(inputs, weights) \n",
    "    output = 1 if weighted_sum >= threshold else 0 \n",
    "    return output \n",
    "def and_not(x1, x2): \n",
    "    weights = np.array([1, 1])  \n",
    "    threshold = 1   \n",
    "    inputs = np.array([x1, x2]) \n",
    "    output = mp_neuron(inputs, weights, threshold) \n",
    "    formula = f\"({x1} * 1) + ({x2} * 1) = {np.dot(inputs, weights)}\" \n",
    "    return output, formula \n",
    "print(\"X1\\t X2\\t Formula\\t\\t\\t\\t Output\") \n",
    "for x1 in [0, 1]: \n",
    "    for x2 in [0, 1]: \n",
    "        output, formula = and_not(x1, x2) \n",
    "        print(f\"{x1}\\t{x2}\\t{formula}\\t\\t\\t{output}\")"
   ]
  },
  {
   "cell_type": "code",
   "execution_count": null,
   "id": "17243b1d-2ec6-49ff-9e1c-9f5a1aa59065",
   "metadata": {},
   "outputs": [],
   "source": []
  }
 ],
 "metadata": {
  "kernelspec": {
   "display_name": "Python 3 (ipykernel)",
   "language": "python",
   "name": "python3"
  },
  "language_info": {
   "codemirror_mode": {
    "name": "ipython",
    "version": 3
   },
   "file_extension": ".py",
   "mimetype": "text/x-python",
   "name": "python",
   "nbconvert_exporter": "python",
   "pygments_lexer": "ipython3",
   "version": "3.12.3"
  }
 },
 "nbformat": 4,
 "nbformat_minor": 5
}
