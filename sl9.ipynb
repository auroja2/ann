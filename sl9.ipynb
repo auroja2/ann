{
 "cells": [
  {
   "cell_type": "code",
   "execution_count": 1,
   "id": "dbc39a25-be98-4da9-aa7d-5b2279287b38",
   "metadata": {},
   "outputs": [],
   "source": [
    "import numpy as np"
   ]
  },
  {
   "cell_type": "code",
   "execution_count": 2,
   "id": "3409a0a8-0641-454f-abda-803b0487d1a3",
   "metadata": {},
   "outputs": [],
   "source": [
    "class HopfieldNetwork:\n",
    "    def __init__(self, size):\n",
    "        self.size = size\n",
    "        self.weights = np.zeros((size, size))\n",
    "\n",
    "    def train(self, patterns):\n",
    "        for p in patterns:\n",
    "            p = p.reshape(self.size, 1)\n",
    "            self.weights += np.dot(p, p.T)\n",
    "        np.fill_diagonal(self.weights, 0)\n",
    "        self.weights /= len(patterns)\n",
    "\n",
    "    def recall(self, pattern, steps=5):\n",
    "        pattern = pattern.copy().astype(float)\n",
    "        for _ in range(steps):\n",
    "            for i in range(self.size):\n",
    "                raw = np.dot(self.weights[i], pattern)\n",
    "                pattern[i] = 1 if raw >= 0 else -1\n",
    "        return pattern.astype(int)"
   ]
  },
  {
   "cell_type": "code",
   "execution_count": 3,
   "id": "9206a987-d101-4af0-8969-28d8bcfa97ed",
   "metadata": {},
   "outputs": [],
   "source": [
    "patterns = np.array([\n",
    "    [1, -1, 1, -1, 1, -1],\n",
    "    [1, 1, -1, -1, 1, -1],\n",
    "    [-1, 1, -1, 1, -1, 1],\n",
    "    [1, 1, 1, -1, -1, -1]\n",
    "])"
   ]
  },
  {
   "cell_type": "code",
   "execution_count": 4,
   "id": "aa5d6d1a-43d5-43e1-be95-6dfe1391994d",
   "metadata": {},
   "outputs": [],
   "source": [
    "hopfield_net = HopfieldNetwork(size=patterns.shape[1])\n",
    "hopfield_net.train(patterns)"
   ]
  },
  {
   "cell_type": "code",
   "execution_count": 5,
   "id": "0ba52b71-c0b5-4790-811b-de2563dd59f3",
   "metadata": {},
   "outputs": [],
   "source": [
    "test_pattern = np.array([1, -1, 1, -1, 1, -1])\n",
    "output = hopfield_net.recall(test_pattern)"
   ]
  },
  {
   "cell_type": "code",
   "execution_count": 6,
   "id": "7339e230-4567-48fb-b9c7-1a8086f321d1",
   "metadata": {},
   "outputs": [
    {
     "name": "stdout",
     "output_type": "stream",
     "text": [
      "Input pattern:  [ 1 -1  1 -1  1 -1]\n",
      "Recalled pattern: [ 1 -1  1 -1  1 -1]\n"
     ]
    }
   ],
   "source": [
    "\n",
    "print(\"Input pattern: \", test_pattern)\n",
    "print(\"Recalled pattern:\", output)\n"
   ]
  },
  {
   "cell_type": "code",
   "execution_count": null,
   "id": "599a9791-a99e-466c-937d-71fccb60d6c9",
   "metadata": {},
   "outputs": [],
   "source": []
  }
 ],
 "metadata": {
  "kernelspec": {
   "display_name": "Python 3 (ipykernel)",
   "language": "python",
   "name": "python3"
  },
  "language_info": {
   "codemirror_mode": {
    "name": "ipython",
    "version": 3
   },
   "file_extension": ".py",
   "mimetype": "text/x-python",
   "name": "python",
   "nbconvert_exporter": "python",
   "pygments_lexer": "ipython3",
   "version": "3.12.3"
  }
 },
 "nbformat": 4,
 "nbformat_minor": 5
}
