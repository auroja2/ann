{
 "cells": [
  {
   "cell_type": "code",
   "execution_count": 1,
   "id": "2ead381d-0dca-439a-bf22-2866b87bf8e2",
   "metadata": {},
   "outputs": [],
   "source": [
    "import numpy as np\n"
   ]
  },
  {
   "cell_type": "code",
   "execution_count": 2,
   "id": "b774821d-a318-4cbd-ae4f-4dfca2029472",
   "metadata": {},
   "outputs": [],
   "source": [
    "class ART1:\n",
    "    def __init__(self, input_size, vigilance=0.75):\n",
    "        self.input_size = input_size\n",
    "        self.vigilance = vigilance\n",
    "        self.weights = []\n",
    "\n",
    "    def _match_score(self, input_pattern, weight):\n",
    "\n",
    "        intersection = np.minimum(input_pattern, weight)\n",
    "        return np.sum(intersection) / np.sum(input_pattern)\n",
    "\n",
    "    def _choose_cluster(self, input_pattern):\n",
    "        for i, w in enumerate(self.weights):\n",
    "            if self._match_score(input_pattern, w) >= self.vigilance:\n",
    "                return i\n",
    "        return -1\n",
    "\n",
    "    def _update_weights(self, input_pattern, cluster_index):\n",
    "        self.weights[cluster_index] = np.minimum(self.weights[cluster_index], input_pattern)\n",
    "\n",
    "    def train(self, patterns):\n",
    "        clusters = []\n",
    "        for pattern in patterns:\n",
    "            pattern = np.array(pattern)\n",
    "            idx = self._choose_cluster(pattern)\n",
    "            if idx == -1:\n",
    "                self.weights.append(pattern.copy())\n",
    "                clusters.append(len(self.weights) - 1)\n",
    "            else:\n",
    "                self._update_weights(pattern, idx)\n",
    "                clusters.append(idx)\n",
    "        return clusters"
   ]
  },
  {
   "cell_type": "code",
   "execution_count": 3,
   "id": "ed36f2d4-da63-4fe8-b567-46461a539209",
   "metadata": {},
   "outputs": [
    {
     "name": "stdout",
     "output_type": "stream",
     "text": [
      "Pattern 1: [1, 1, 0, 0, 1] → Cluster 0\n",
      "Pattern 2: [1, 1, 0, 0, 1] → Cluster 0\n",
      "Pattern 3: [0, 0, 1, 1, 0] → Cluster 1\n",
      "Pattern 4: [0, 0, 1, 1, 0] → Cluster 1\n",
      "Pattern 5: [1, 0, 1, 0, 1] → Cluster 2\n"
     ]
    }
   ],
   "source": [
    "if __name__ == \"__main__\":\n",
    "    patterns = [\n",
    "        [1, 1, 0, 0, 1],\n",
    "        [1, 1, 0, 0, 1],\n",
    "        [0, 0, 1, 1, 0],\n",
    "        [0, 0, 1, 1, 0],\n",
    "        [1, 0, 1, 0, 1]\n",
    "    ]\n",
    "\n",
    "    art = ART1(input_size=5, vigilance=0.75)\n",
    "    clusters = art.train(patterns)\n",
    "\n",
    "    for i, (pattern, cluster) in enumerate(zip(patterns, clusters)):\n",
    "        print(f\"Pattern {i+1}: {pattern} → Cluster {cluster}\")\n"
   ]
  },
  {
   "cell_type": "code",
   "execution_count": null,
   "id": "16b080da-4e62-4cd8-a322-1547384a9bf5",
   "metadata": {},
   "outputs": [],
   "source": []
  }
 ],
 "metadata": {
  "kernelspec": {
   "display_name": "Python 3 (ipykernel)",
   "language": "python",
   "name": "python3"
  },
  "language_info": {
   "codemirror_mode": {
    "name": "ipython",
    "version": 3
   },
   "file_extension": ".py",
   "mimetype": "text/x-python",
   "name": "python",
   "nbconvert_exporter": "python",
   "pygments_lexer": "ipython3",
   "version": "3.12.3"
  }
 },
 "nbformat": 4,
 "nbformat_minor": 5
}
