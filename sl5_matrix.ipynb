{
 "cells": [
  {
   "cell_type": "code",
   "execution_count": 1,
   "id": "4ff58406-2d66-4a8c-8825-2fc3387f2747",
   "metadata": {},
   "outputs": [],
   "source": [
    "import numpy as np\n",
    "\n",
    "# Sigmoid activation and its derivative\n",
    "def sigmoid(x):\n",
    "    return 1 / (1 + np.exp(-x))\n",
    "\n",
    "def sigmoid_derivative(x):\n",
    "    return x * (1 - x)"
   ]
  },
  {
   "cell_type": "code",
   "execution_count": 2,
   "id": "2095cf4a-e4a9-4865-8d88-605d90b1c155",
   "metadata": {},
   "outputs": [],
   "source": [
    "# Flattened 5x3 matrices for digits 0–9\n",
    "digits = {\n",
    "    0: [1,1,1, 1,0,1, 1,0,1, 1,0,1, 1,1,1],\n",
    "    1: [0,1,0, 1,1,0, 0,1,0, 0,1,0, 1,1,1],\n",
    "    2: [1,1,1, 0,0,1, 1,1,1, 1,0,0, 1,1,1],\n",
    "    3: [1,1,1, 0,0,1, 0,1,1, 0,0,1, 1,1,1],\n",
    "    4: [1,0,1, 1,0,1, 1,1,1, 0,0,1, 0,0,1],\n",
    "    5: [1,1,1, 1,0,0, 1,1,1, 0,0,1, 1,1,1],\n",
    "    6: [1,1,1, 1,0,0, 1,1,1, 1,0,1, 1,1,1],\n",
    "    7: [1,1,1, 0,0,1, 0,1,0, 0,1,0, 1,1,0],\n",
    "    8: [1,1,1, 1,0,1, 1,1,1, 1,0,1, 1,1,1],\n",
    "    9: [1,1,1, 1,0,1, 1,1,1, 0,0,1, 1,1,1]\n",
    "}"
   ]
  },
  {
   "cell_type": "code",
   "execution_count": 3,
   "id": "5f197ad7-13b8-48cc-9617-5175c0497710",
   "metadata": {},
   "outputs": [],
   "source": [
    "# Prepare training data\n",
    "X = np.array([digits[d] for d in range(10)])\n",
    "y = np.eye(10)  # One-hot encoded labels (0-9)"
   ]
  },
  {
   "cell_type": "code",
   "execution_count": 4,
   "id": "04046706-f822-44ac-ab6a-7cfdbc4efb16",
   "metadata": {},
   "outputs": [],
   "source": [
    "# Initialize weights\n",
    "input_neurons = 15\n",
    "hidden_neurons = 10\n",
    "output_neurons = 10\n",
    "\n",
    "np.random.seed(1)\n",
    "hidden_weights = np.random.uniform(size=(input_neurons, hidden_neurons))\n",
    "hidden_bias = np.random.uniform(size=(1, hidden_neurons))\n",
    "output_weights = np.random.uniform(size=(hidden_neurons, output_neurons))\n",
    "output_bias = np.random.uniform(size=(1, output_neurons))"
   ]
  },
  {
   "cell_type": "code",
   "execution_count": 5,
   "id": "fd3410bd-43de-4cdb-afac-9c939a118a94",
   "metadata": {},
   "outputs": [],
   "source": [
    "# Training\n",
    "epochs = 10000\n",
    "learning_rate = 0.1\n",
    "\n",
    "for _ in range(epochs):\n",
    "    # Forward pass\n",
    "    hidden_input = np.dot(X, hidden_weights) + hidden_bias\n",
    "    hidden_output = sigmoid(hidden_input)\n",
    "\n",
    "    output_input = np.dot(hidden_output, output_weights) + output_bias\n",
    "    predicted_output = sigmoid(output_input)\n",
    "\n",
    "    # Backpropagation\n",
    "    error = y - predicted_output\n",
    "    d_output = error * sigmoid_derivative(predicted_output)\n",
    "\n",
    "    error_hidden = d_output.dot(output_weights.T)\n",
    "    d_hidden = error_hidden * sigmoid_derivative(hidden_output)\n",
    "\n",
    "    # Update weights and biases\n",
    "    output_weights += hidden_output.T.dot(d_output) * learning_rate\n",
    "    output_bias += np.sum(d_output, axis=0, keepdims=True) * learning_rate\n",
    "    hidden_weights += X.T.dot(d_hidden) * learning_rate\n",
    "    hidden_bias += np.sum(d_hidden, axis=0, keepdims=True) * learning_rate\n"
   ]
  },
  {
   "cell_type": "code",
   "execution_count": 10,
   "id": "f08e53c3-a21f-4c86-8250-84a96a3a8936",
   "metadata": {},
   "outputs": [
    {
     "name": "stdout",
     "output_type": "stream",
     "text": [
      "Predicted Digit: 4\n"
     ]
    }
   ],
   "source": [
    "# Prediction Function\n",
    "def predict_digit(test_matrix):\n",
    "    test_input = np.array(test_matrix).reshape(1, 15)\n",
    "    hidden_layer = sigmoid(np.dot(test_input, hidden_weights) + hidden_bias)\n",
    "    output_layer = sigmoid(np.dot(hidden_layer, output_weights) + output_bias)\n",
    "    return np.argmax(output_layer)\n",
    "\n",
    "# Test Example\n",
    "test_digit = [1,0,1, 1,0,1, 1,1,1, 0,0,1, 0,0,1]  # Digit 0\n",
    "print(\"Predicted Digit:\", predict_digit(test_digit))"
   ]
  },
  {
   "cell_type": "code",
   "execution_count": null,
   "id": "87435048-2282-4034-81df-8c5440b7044e",
   "metadata": {},
   "outputs": [],
   "source": []
  }
 ],
 "metadata": {
  "kernelspec": {
   "display_name": "Python 3 (ipykernel)",
   "language": "python",
   "name": "python3"
  },
  "language_info": {
   "codemirror_mode": {
    "name": "ipython",
    "version": 3
   },
   "file_extension": ".py",
   "mimetype": "text/x-python",
   "name": "python",
   "nbconvert_exporter": "python",
   "pygments_lexer": "ipython3",
   "version": "3.12.3"
  }
 },
 "nbformat": 4,
 "nbformat_minor": 5
}
